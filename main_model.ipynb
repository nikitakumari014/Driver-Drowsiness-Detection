{
 "cells": [
  {
   "cell_type": "code",
   "execution_count": 3,
   "metadata": {},
   "outputs": [
    {
     "name": "stdout",
     "output_type": "stream",
     "text": [
      "pygame 2.1.2 (SDL 2.0.18, Python 3.9.7)\n",
      "Hello from the pygame community. https://www.pygame.org/contribute.html\n"
     ]
    }
   ],
   "source": [
    "#Main model\n",
    "import cv2\n",
    "import tensorflow as tf\n",
    "from tensorflow.keras.models import load_model\n",
    "import numpy as np\n",
    "from pygame import mixer"
   ]
  },
  {
   "cell_type": "code",
   "execution_count": 7,
   "metadata": {},
   "outputs": [],
   "source": [
    "face_cascade = cv2.CascadeClassifier(cv2.data.haarcascades + 'haarcascade_frontalface_default.xml')\n",
    "eye_cascade = cv2.CascadeClassifier(cv2.data.haarcascades + 'haarcascade_eye.xml')\n",
    "main_model = load_model('Model\\model.h5')"
   ]
  },
  {
   "cell_type": "code",
   "execution_count": 11,
   "metadata": {},
   "outputs": [],
   "source": [
    "mixer.init()\n",
    "alarm=mixer.Sound('alarm.wav')\n",
    "capture = cv2.VideoCapture(0)\n",
    "score = 0 #since counting are fast like in miliseconds.\n",
    "while True:\n",
    "    ret,frame = capture.read()\n",
    "    gray = cv2.cvtColor(frame,cv2.COLOR_BGR2GRAY)\n",
    "    faces = face_cascade.detectMultiScale(gray,scaleFactor=1.2,minNeighbors=3)\n",
    "    eyes = eye_cascade.detectMultiScale(gray,scaleFactor=1.2,minNeighbors=3)\n",
    "\n",
    "    for (x,y,w,h) in faces:\n",
    "        cv2.rectangle(frame,pt1=(x,y),pt2=(x+w,y+h),color= (0,0,255),thickness=3)\n",
    "    \n",
    "    for (x,y,w,h) in eyes:\n",
    "        cv2.rectangle(frame,pt1=(x,y),pt2=(x+w,y+h),color= (0,0,255),thickness=3)\n",
    "        #preprocessing step\n",
    "        eye = frame[y:y+h,x:x+w]\n",
    "        eye = cv2.resize(eye,(80,80)) #resize image\n",
    "        eye = eye/255 #rescaling image by 255\n",
    "        eye = eye.reshape(80,80,3) #reshape\n",
    "        eye = np.expand_dims(eye,axis=0)\n",
    "        #model prediction here\n",
    "        prediction = main_model.predict(eye)\n",
    "        if prediction[0][0] > 0.30: #if eyes are close\n",
    "            score = score + 1\n",
    "            if score>10:\n",
    "                try:\n",
    "                    alarm.play()\n",
    "                except:\n",
    "                    pass\n",
    "        elif prediction[0][1] > 0.90:\n",
    "            score = score - 1\n",
    "            if score <0:\n",
    "                score = 0\n",
    " \n",
    "        # print(prediction)\n",
    "    cv2.imshow('Drowsiness Detection',frame)\n",
    "    if cv2.waitKey(35) & 0xFF==ord('Q'):\n",
    "        break\n",
    "capture.release()\n",
    "cv2.destroyAllWindows()\n"
   ]
  }
 ],
 "metadata": {
  "kernelspec": {
   "display_name": "Python 3.9.7 64-bit",
   "language": "python",
   "name": "python3"
  },
  "language_info": {
   "codemirror_mode": {
    "name": "ipython",
    "version": 3
   },
   "file_extension": ".py",
   "mimetype": "text/x-python",
   "name": "python",
   "nbconvert_exporter": "python",
   "pygments_lexer": "ipython3",
   "version": "3.9.7"
  },
  "orig_nbformat": 4,
  "vscode": {
   "interpreter": {
    "hash": "22e8c7b47637f1039c2587cc89e550c33ff8d39197d9da6a7a8cc6dcef4c1167"
   }
  }
 },
 "nbformat": 4,
 "nbformat_minor": 2
}
