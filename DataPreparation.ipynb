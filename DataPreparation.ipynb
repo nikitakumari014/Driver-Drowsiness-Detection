{
 "cells": [
  {
   "cell_type": "code",
   "execution_count": 6,
   "metadata": {},
   "outputs": [],
   "source": [
    "import os #because we have to go through folders\n",
    "import shutil #just to copy paste\n",
    "import glob #to return all file paths that match a specific pattern\n",
    "from tqdm import tqdm #just to see the progress bar"
   ]
  },
  {
   "cell_type": "code",
   "execution_count": 12,
   "metadata": {},
   "outputs": [
    {
     "name": "stderr",
     "output_type": "stream",
     "text": [
      "0it [00:00, ?it/s]\n",
      "100%|██████████| 3242/3242 [01:01<00:00, 52.46it/s]\n",
      "100%|██████████| 1114/1114 [00:17<00:00, 62.30it/s]\n",
      "100%|██████████| 679/679 [00:11<00:00, 59.36it/s]\n",
      "100%|██████████| 1069/1069 [00:23<00:00, 46.44it/s]\n",
      "100%|██████████| 736/736 [00:16<00:00, 44.52it/s]\n",
      "100%|██████████| 1012/1012 [00:22<00:00, 44.89it/s]\n",
      "100%|██████████| 624/624 [00:13<00:00, 45.27it/s]\n",
      "100%|██████████| 832/832 [00:19<00:00, 42.52it/s]\n",
      "100%|██████████| 387/387 [00:05<00:00, 65.33it/s]\n",
      "100%|██████████| 399/399 [00:06<00:00, 60.91it/s]\n",
      "100%|██████████| 1648/1648 [00:25<00:00, 63.95it/s]\n",
      "100%|██████████| 8728/8728 [03:18<00:00, 43.88it/s]\n",
      "100%|██████████| 3605/3605 [02:31<00:00, 23.78it/s]\n",
      "100%|██████████| 8884/8884 [04:47<00:00, 30.86it/s]\n",
      "100%|██████████| 1132/1132 [00:42<00:00, 26.55it/s]\n",
      "100%|██████████| 1889/1889 [01:21<00:00, 23.23it/s]\n",
      "100%|██████████| 1648/1648 [01:03<00:00, 26.05it/s]\n",
      "100%|██████████| 4410/4410 [02:43<00:00, 26.97it/s]\n",
      "100%|██████████| 6175/6175 [03:20<00:00, 30.79it/s]\n",
      "100%|██████████| 704/704 [00:16<00:00, 42.27it/s]\n",
      "100%|██████████| 987/987 [00:27<00:00, 36.30it/s]\n",
      "100%|██████████| 382/382 [00:13<00:00, 27.75it/s]\n",
      "100%|██████████| 522/522 [00:14<00:00, 35.65it/s]\n",
      "100%|██████████| 752/752 [00:22<00:00, 33.95it/s]\n",
      "100%|██████████| 1502/1502 [00:38<00:00, 38.57it/s]\n",
      "100%|██████████| 1246/1246 [00:37<00:00, 33.60it/s]\n",
      "100%|██████████| 665/665 [00:17<00:00, 37.21it/s]\n",
      "100%|██████████| 736/736 [00:20<00:00, 36.52it/s]\n",
      "100%|██████████| 1393/1393 [00:36<00:00, 37.71it/s]\n",
      "100%|██████████| 1384/1384 [00:38<00:00, 35.74it/s]\n",
      "100%|██████████| 1738/1738 [00:44<00:00, 39.18it/s]\n",
      "100%|██████████| 6162/6162 [02:18<00:00, 44.35it/s]\n",
      "100%|██████████| 681/681 [00:20<00:00, 32.48it/s]\n",
      "100%|██████████| 739/739 [00:19<00:00, 37.62it/s]\n",
      "100%|██████████| 642/642 [00:16<00:00, 39.61it/s]\n",
      "100%|██████████| 6193/6193 [02:59<00:00, 34.48it/s]\n",
      "100%|██████████| 10257/10257 [05:51<00:00, 29.22it/s]\n"
     ]
    }
   ],
   "source": [
    "raw_data = r'mrlEyes_2018_01'\n",
    "for dirpath,filename in os.walk(raw_data):\n",
    "    for i in tqdm([f for f in filename if f.endswith('.png')]):\n",
    "        if i.split('_')[4] == '0':\n",
    "            shutil.copy(src=dirpath+'/'+i,dst=r'PreparingData\\ClosedEyes')\n",
    "        else:\n",
    "            shutil.copy(src=dirpath+'/'+i,dst=r'PreparingData\\OpenEyes')"
   ]
  },
  {
   "cell_type": "code",
   "execution_count": 16,
   "metadata": {},
   "outputs": [
    {
     "name": "stderr",
     "output_type": "stream",
     "text": [
      "100%|██████████| 39906/39906 [05:47<00:00, 114.83it/s]\n"
     ]
    }
   ],
   "source": [
    "raw_data = r'PreparingData\\ClosedEyes'\n",
    "for dirpath,dirname,filename in os.walk(raw_data):\n",
    "    for i in tqdm([f for f in filename if f.endswith('.png')]):\n",
    "            shutil.copy(src=dirpath+'/'+i,dst=r'PreparingData\\Train\\ClosedEyes')b"
   ]
  },
  {
   "cell_type": "code",
   "execution_count": 17,
   "metadata": {},
   "outputs": [
    {
     "name": "stderr",
     "output_type": "stream",
     "text": [
      "100%|██████████| 40398/40398 [05:54<00:00, 114.04it/s]\n"
     ]
    }
   ],
   "source": [
    "raw_data = r'PreparingData\\OpenEyes'\n",
    "for dirpath,dirname,filename in os.walk(raw_data):\n",
    "    for i in tqdm([f for f in filename if f.endswith('.png')]):\n",
    "            shutil.copy(src=dirpath+'/'+i,dst=r'PreparingData\\Train\\OpenEyes')"
   ]
  }
 ],
 "metadata": {
  "kernelspec": {
   "display_name": "Python 3.9.7 64-bit",
   "language": "python",
   "name": "python3"
  },
  "language_info": {
   "codemirror_mode": {
    "name": "ipython",
    "version": 3
   },
   "file_extension": ".py",
   "mimetype": "text/x-python",
   "name": "python",
   "nbconvert_exporter": "python",
   "pygments_lexer": "ipython3",
   "version": "3.9.7"
  },
  "orig_nbformat": 4,
  "vscode": {
   "interpreter": {
    "hash": "22e8c7b47637f1039c2587cc89e550c33ff8d39197d9da6a7a8cc6dcef4c1167"
   }
  }
 },
 "nbformat": 4,
 "nbformat_minor": 2
}
